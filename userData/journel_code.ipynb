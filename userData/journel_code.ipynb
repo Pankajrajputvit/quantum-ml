{
 "cells": [
  {
   "cell_type": "markdown",
   "metadata": {
    "id": "ZH1h-oZc9L8C"
   },
   "source": [
    "Installation"
   ]
  },
  {
   "cell_type": "code",
   "execution_count": null,
   "metadata": {
    "colab": {
     "base_uri": "https://localhost:8080/"
    },
    "id": "wbbqUwHc3ic1",
    "outputId": "c3cec9e8-dc4d-4611-8300-781e895b3a7c"
   },
   "outputs": [
    {
     "name": "stdout",
     "output_type": "stream",
     "text": [
      "Requirement already satisfied: pip in c:\\users\\aquag\\appdata\\local\\programs\\python\\python313\\lib\\site-packages (24.3.1)\n",
      "Requirement already satisfied: setuptools in c:\\users\\aquag\\appdata\\local\\programs\\python\\python313\\lib\\site-packages (75.5.0)\n",
      "Requirement already satisfied: wheel in c:\\users\\aquag\\appdata\\local\\programs\\python\\python313\\lib\\site-packages (0.45.0)\n",
      "Collecting qiskit-aer\n",
      "  Using cached qiskit-aer-0.15.1.tar.gz (6.6 MB)\n",
      "  Installing build dependencies: started\n",
      "  Installing build dependencies: finished with status 'done'\n",
      "  Getting requirements to build wheel: started\n",
      "  Getting requirements to build wheel: finished with status 'done'\n",
      "  Preparing metadata (pyproject.toml): started\n",
      "  Preparing metadata (pyproject.toml): finished with status 'done'\n",
      "Requirement already satisfied: qiskit>=1.1.0 in c:\\users\\aquag\\appdata\\local\\programs\\python\\python313\\lib\\site-packages (from qiskit-aer) (1.2.4)\n",
      "Requirement already satisfied: numpy>=1.16.3 in c:\\users\\aquag\\appdata\\local\\programs\\python\\python313\\lib\\site-packages (from qiskit-aer) (2.1.3)\n",
      "Requirement already satisfied: scipy>=1.0 in c:\\users\\aquag\\appdata\\local\\programs\\python\\python313\\lib\\site-packages (from qiskit-aer) (1.14.1)\n",
      "Requirement already satisfied: psutil>=5 in c:\\users\\aquag\\appdata\\roaming\\python\\python313\\site-packages (from qiskit-aer) (6.1.0)\n",
      "Requirement already satisfied: rustworkx>=0.15.0 in c:\\users\\aquag\\appdata\\local\\programs\\python\\python313\\lib\\site-packages (from qiskit>=1.1.0->qiskit-aer) (0.15.1)\n",
      "Requirement already satisfied: sympy>=1.3 in c:\\users\\aquag\\appdata\\local\\programs\\python\\python313\\lib\\site-packages (from qiskit>=1.1.0->qiskit-aer) (1.13.3)\n",
      "Requirement already satisfied: dill>=0.3 in c:\\users\\aquag\\appdata\\local\\programs\\python\\python313\\lib\\site-packages (from qiskit>=1.1.0->qiskit-aer) (0.3.9)\n",
      "Requirement already satisfied: python-dateutil>=2.8.0 in c:\\users\\aquag\\appdata\\roaming\\python\\python313\\site-packages (from qiskit>=1.1.0->qiskit-aer) (2.9.0.post0)\n",
      "Requirement already satisfied: stevedore>=3.0.0 in c:\\users\\aquag\\appdata\\local\\programs\\python\\python313\\lib\\site-packages (from qiskit>=1.1.0->qiskit-aer) (5.3.0)\n",
      "Requirement already satisfied: typing-extensions in c:\\users\\aquag\\appdata\\local\\programs\\python\\python313\\lib\\site-packages (from qiskit>=1.1.0->qiskit-aer) (4.12.2)\n",
      "Requirement already satisfied: symengine<0.14,>=0.11 in c:\\users\\aquag\\appdata\\local\\programs\\python\\python313\\lib\\site-packages (from qiskit>=1.1.0->qiskit-aer) (0.13.0)\n",
      "Requirement already satisfied: mpmath<1.4,>=1.1.0 in c:\\users\\aquag\\appdata\\local\\programs\\python\\python313\\lib\\site-packages (from sympy>=1.3->qiskit>=1.1.0->qiskit-aer) (1.3.0)\n",
      "Requirement already satisfied: six>=1.5 in c:\\users\\aquag\\appdata\\roaming\\python\\python313\\site-packages (from python-dateutil>=2.8.0->qiskit>=1.1.0->qiskit-aer) (1.16.0)\n",
      "Requirement already satisfied: pbr>=2.0.0 in c:\\users\\aquag\\appdata\\local\\programs\\python\\python313\\lib\\site-packages (from stevedore>=3.0.0->qiskit>=1.1.0->qiskit-aer) (6.1.0)\n",
      "Building wheels for collected packages: qiskit-aer\n",
      "  Building wheel for qiskit-aer (pyproject.toml): started\n",
      "  Building wheel for qiskit-aer (pyproject.toml): finished with status 'error'\n",
      "Failed to build qiskit-aer\n"
     ]
    },
    {
     "name": "stderr",
     "output_type": "stream",
     "text": [
      "  error: subprocess-exited-with-error\n",
      "  \n",
      "  × Building wheel for qiskit-aer (pyproject.toml) did not run successfully.\n",
      "  │ exit code: 1\n",
      "  ╰─> [107 lines of output]\n",
      "      \n",
      "      \n",
      "      --------------------------------------------------------------------------------\n",
      "      -- Trying 'Ninja (Visual Studio 17 2022 x64 v144)' generator\n",
      "      --------------------------------\n",
      "      ---------------------------\n",
      "      ----------------------\n",
      "      -----------------\n",
      "      ------------\n",
      "      -------\n",
      "      --\n",
      "      Not searching for unused variables given on the command line.\n",
      "      CMake Deprecation Warning at CMakeLists.txt:1 (cmake_minimum_required):\n",
      "        Compatibility with CMake < 3.10 will be removed from a future version of\n",
      "        CMake.\n",
      "      \n",
      "        Update the VERSION argument <min> value or use a ...<max> suffix to tell\n",
      "        CMake that the project does not need compatibility with older versions.\n",
      "      \n",
      "      \n",
      "      -- The C compiler identification is MSVC 19.41.34123.0\n",
      "      -- Detecting C compiler ABI info\n",
      "      -- Detecting C compiler ABI info - done\n",
      "      -- Check for working C compiler: C:/Program Files (x86)/Microsoft Visual Studio/2022/BuildTools/VC/Tools/MSVC/14.41.34120/bin/Hostx86/x64/cl.exe - skipped\n",
      "      -- Detecting C compile features\n",
      "      -- Detecting C compile features - done\n",
      "      -- The CXX compiler identification is MSVC 19.41.34123.0\n",
      "      -- Detecting CXX compiler ABI info\n",
      "      -- Detecting CXX compiler ABI info - done\n",
      "      -- Check for working CXX compiler: C:/Program Files (x86)/Microsoft Visual Studio/2022/BuildTools/VC/Tools/MSVC/14.41.34120/bin/Hostx86/x64/cl.exe - skipped\n",
      "      -- Detecting CXX compile features\n",
      "      -- Detecting CXX compile features - done\n",
      "      -- Configuring done (4.7s)\n",
      "      -- Generating done (0.1s)\n",
      "      -- Build files have been written to: C:/Users/aquag/AppData/Local/Temp/pip-install-w91j6hst/qiskit-aer/_cmake_test_compile/build\n",
      "      --\n",
      "      -------\n",
      "      ------------\n",
      "      -----------------\n",
      "      ----------------------\n",
      "      ---------------------------\n",
      "      --------------------------------\n",
      "      -- Trying 'Ninja (Visual Studio 17 2022 x64 v144)' generator - success\n",
      "      --------------------------------------------------------------------------------\n",
      "      \n",
      "      Configuring Project\n",
      "        Working directory:\n",
      "          C:\\Users\\aquag\\AppData\\Local\\Temp\\pip-install-w91j6hst\\qiskit-aer\\_skbuild\\win-amd64-3.13\\cmake-build\n",
      "        Command:\n",
      "          'C:\\Users\\aquag\\AppData\\Local\\Temp\\pip-build-env-b6ogz4zo\\overlay\\Lib\\site-packages\\cmake\\data\\bin/cmake.exe' 'C:\\Users\\aquag\\AppData\\Local\\Temp\\pip-install-w91j6hst\\qiskit-aer' -G Ninja '-DCMAKE_MAKE_PROGRAM:FILEPATH=C:\\Users\\aquag\\AppData\\Local\\Temp\\pip-build-env-b6ogz4zo\\overlay\\Lib\\site-packages\\ninja\\data\\bin\\ninja' -D_SKBUILD_FORCE_MSVC=1930 --no-warn-unused-cli '-DCMAKE_INSTALL_PREFIX:PATH=C:\\Users\\aquag\\AppData\\Local\\Temp\\pip-install-w91j6hst\\qiskit-aer\\_skbuild\\win-amd64-3.13\\cmake-install' -DPYTHON_VERSION_STRING:STRING=3.13.0 -DSKBUILD:INTERNAL=TRUE '-DCMAKE_MODULE_PATH:PATH=C:\\Users\\aquag\\AppData\\Local\\Temp\\pip-build-env-b6ogz4zo\\overlay\\Lib\\site-packages\\skbuild\\resources\\cmake' '-DPYTHON_EXECUTABLE:PATH=c:\\Users\\aquag\\AppData\\Local\\Programs\\Python\\Python313\\python.exe' '-DPYTHON_INCLUDE_DIR:PATH=c:\\Users\\aquag\\AppData\\Local\\Programs\\Python\\Python313\\Include' '-DPYTHON_LIBRARY:PATH=C:\\Users\\aquag\\AppData\\Local\\Programs\\Python\\Python313\\libs\\python313.lib' '-DPython_EXECUTABLE:PATH=c:\\Users\\aquag\\AppData\\Local\\Programs\\Python\\Python313\\python.exe' '-DPython_ROOT_DIR:PATH=c:\\Users\\aquag\\AppData\\Local\\Programs\\Python\\Python313' -DPython_FIND_REGISTRY:STRING=NEVER '-DPython_INCLUDE_DIR:PATH=c:\\Users\\aquag\\AppData\\Local\\Programs\\Python\\Python313\\Include' '-DPython_LIBRARY:PATH=C:\\Users\\aquag\\AppData\\Local\\Programs\\Python\\Python313\\libs\\python313.lib' '-DPython3_EXECUTABLE:PATH=c:\\Users\\aquag\\AppData\\Local\\Programs\\Python\\Python313\\python.exe' '-DPython3_ROOT_DIR:PATH=c:\\Users\\aquag\\AppData\\Local\\Programs\\Python\\Python313' -DPython3_FIND_REGISTRY:STRING=NEVER '-DPython3_INCLUDE_DIR:PATH=c:\\Users\\aquag\\AppData\\Local\\Programs\\Python\\Python313\\Include' '-DPython3_LIBRARY:PATH=C:\\Users\\aquag\\AppData\\Local\\Programs\\Python\\Python313\\libs\\python313.lib' '-DCMAKE_MAKE_PROGRAM:FILEPATH=C:\\Users\\aquag\\AppData\\Local\\Temp\\pip-build-env-b6ogz4zo\\overlay\\Lib\\site-packages\\ninja\\data\\bin\\ninja' -DCMAKE_BUILD_TYPE:STRING=Release\n",
      "      \n",
      "      Not searching for unused variables given on the command line.\n",
      "      CMake Deprecation Warning at CMakeLists.txt:11 (cmake_minimum_required):\n",
      "        Compatibility with CMake < 3.10 will be removed from a future version of\n",
      "        CMake.\n",
      "      \n",
      "        Update the VERSION argument <min> value or use a ...<max> suffix to tell\n",
      "        CMake that the project does not need compatibility with older versions.\n",
      "      \n",
      "      \n",
      "      -- The CXX compiler identification is MSVC 19.41.34123.0\n",
      "      -- The C compiler identification is MSVC 19.41.34123.0\n",
      "      -- Detecting CXX compiler ABI info\n",
      "      -- Detecting CXX compiler ABI info - done\n",
      "      -- Check for working CXX compiler: C:/Program Files (x86)/Microsoft Visual Studio/2022/BuildTools/VC/Tools/MSVC/14.41.34120/bin/Hostx86/x64/cl.exe - skipped\n",
      "      -- Detecting CXX compile features\n",
      "      -- Detecting CXX compile features - done\n",
      "      -- Detecting C compiler ABI info\n",
      "      -- Detecting C compiler ABI info - done\n",
      "      -- Check for working C compiler: C:/Program Files (x86)/Microsoft Visual Studio/2022/BuildTools/VC/Tools/MSVC/14.41.34120/bin/Hostx86/x64/cl.exe - skipped\n",
      "      -- Detecting C compile features\n",
      "      -- Detecting C compile features - done\n",
      "      -- Performing Test flag_supported\n",
      "      -- Performing Test flag_supported - Success\n",
      "      -- Performing Test flag_supported\n",
      "      -- Performing Test flag_supported - Success\n",
      "      -- Conan: Automatic detection of conan settings from cmake\n",
      "      CMake Error at cmake/conan.cmake:61 (message):\n",
      "        Conan: Unknown MSVC compiler version [1941]\n",
      "      Call Stack (most recent call first):\n",
      "        cmake/conan.cmake:178 (_get_msvc_ide_version)\n",
      "        cmake/conan.cmake:498 (conan_cmake_settings)\n",
      "        cmake/conan_utils.cmake:63 (conan_cmake_run)\n",
      "        cmake/dependency_utils.cmake:20 (setup_conan)\n",
      "        CMakeLists.txt:179 (setup_dependencies)\n",
      "      \n",
      "      \n",
      "      -- Configuring incomplete, errors occurred!\n",
      "      Traceback (most recent call last):\n",
      "        File \"C:\\Users\\aquag\\AppData\\Local\\Temp\\pip-build-env-b6ogz4zo\\overlay\\Lib\\site-packages\\skbuild\\setuptools_wrap.py\", line 660, in setup\n",
      "          env = cmkr.configure(\n",
      "              cmake_args,\n",
      "          ...<3 lines>...\n",
      "              languages=cmake_languages,\n",
      "          )\n",
      "        File \"C:\\Users\\aquag\\AppData\\Local\\Temp\\pip-build-env-b6ogz4zo\\overlay\\Lib\\site-packages\\skbuild\\cmaker.py\", line 354, in configure\n",
      "          raise SKBuildError(msg)\n",
      "      \n",
      "      An error occurred while configuring with CMake.\n",
      "        Command:\n",
      "          'C:\\Users\\aquag\\AppData\\Local\\Temp\\pip-build-env-b6ogz4zo\\overlay\\Lib\\site-packages\\cmake\\data\\bin/cmake.exe' 'C:\\Users\\aquag\\AppData\\Local\\Temp\\pip-install-w91j6hst\\qiskit-aer' -G Ninja '-DCMAKE_MAKE_PROGRAM:FILEPATH=C:\\Users\\aquag\\AppData\\Local\\Temp\\pip-build-env-b6ogz4zo\\overlay\\Lib\\site-packages\\ninja\\data\\bin\\ninja' -D_SKBUILD_FORCE_MSVC=1930 --no-warn-unused-cli '-DCMAKE_INSTALL_PREFIX:PATH=C:\\Users\\aquag\\AppData\\Local\\Temp\\pip-install-w91j6hst\\qiskit-aer\\_skbuild\\win-amd64-3.13\\cmake-install' -DPYTHON_VERSION_STRING:STRING=3.13.0 -DSKBUILD:INTERNAL=TRUE '-DCMAKE_MODULE_PATH:PATH=C:\\Users\\aquag\\AppData\\Local\\Temp\\pip-build-env-b6ogz4zo\\overlay\\Lib\\site-packages\\skbuild\\resources\\cmake' '-DPYTHON_EXECUTABLE:PATH=c:\\Users\\aquag\\AppData\\Local\\Programs\\Python\\Python313\\python.exe' '-DPYTHON_INCLUDE_DIR:PATH=c:\\Users\\aquag\\AppData\\Local\\Programs\\Python\\Python313\\Include' '-DPYTHON_LIBRARY:PATH=C:\\Users\\aquag\\AppData\\Local\\Programs\\Python\\Python313\\libs\\python313.lib' '-DPython_EXECUTABLE:PATH=c:\\Users\\aquag\\AppData\\Local\\Programs\\Python\\Python313\\python.exe' '-DPython_ROOT_DIR:PATH=c:\\Users\\aquag\\AppData\\Local\\Programs\\Python\\Python313' -DPython_FIND_REGISTRY:STRING=NEVER '-DPython_INCLUDE_DIR:PATH=c:\\Users\\aquag\\AppData\\Local\\Programs\\Python\\Python313\\Include' '-DPython_LIBRARY:PATH=C:\\Users\\aquag\\AppData\\Local\\Programs\\Python\\Python313\\libs\\python313.lib' '-DPython3_EXECUTABLE:PATH=c:\\Users\\aquag\\AppData\\Local\\Programs\\Python\\Python313\\python.exe' '-DPython3_ROOT_DIR:PATH=c:\\Users\\aquag\\AppData\\Local\\Programs\\Python\\Python313' -DPython3_FIND_REGISTRY:STRING=NEVER '-DPython3_INCLUDE_DIR:PATH=c:\\Users\\aquag\\AppData\\Local\\Programs\\Python\\Python313\\Include' '-DPython3_LIBRARY:PATH=C:\\Users\\aquag\\AppData\\Local\\Programs\\Python\\Python313\\libs\\python313.lib' '-DCMAKE_MAKE_PROGRAM:FILEPATH=C:\\Users\\aquag\\AppData\\Local\\Temp\\pip-build-env-b6ogz4zo\\overlay\\Lib\\site-packages\\ninja\\data\\bin\\ninja' -DCMAKE_BUILD_TYPE:STRING=Release\n",
      "        Source directory:\n",
      "          C:\\Users\\aquag\\AppData\\Local\\Temp\\pip-install-w91j6hst\\qiskit-aer\n",
      "        Working directory:\n",
      "          C:\\Users\\aquag\\AppData\\Local\\Temp\\pip-install-w91j6hst\\qiskit-aer\\_skbuild\\win-amd64-3.13\\cmake-build\n",
      "      Please see CMake's output for more information.\n",
      "      \n",
      "      [end of output]\n",
      "  \n",
      "  note: This error originates from a subprocess, and is likely not a problem with pip.\n",
      "  ERROR: Failed building wheel for qiskit-aer\n",
      "ERROR: ERROR: Failed to build installable wheels for some pyproject.toml based projects (qiskit-aer)\n"
     ]
    }
   ],
   "source": [
    "# !pip install qiskit_machine_learning     \n",
    "# !pip install wheel\n",
    "# !pip install --upgrade pip setuptools wheel\n",
    "# !pip install qiskit-aer --use-deprecated=legacy-resolver\n",
    "# !python.exe -m pip install --upgrade pip\n",
    "# !pip install qiskit\n",
    "# !pip install qiskit_aer\n",
    "# !pip install qiskit-ibmq-provider\n",
    "# !pip install qiskit-primitives\n",
    "# !pip install qiskit-BaseEstimatorV2"
   ]
  },
  {
   "cell_type": "markdown",
   "metadata": {
    "id": "1RXVUMkc3WsP"
   },
   "source": [
    "1.Importing Libraries"
   ]
  },
  {
   "cell_type": "code",
   "execution_count": 1,
   "metadata": {
    "colab": {
     "base_uri": "https://localhost:8080/",
     "height": 399
    },
    "id": "U1WR87w43PJS",
    "outputId": "1aab9cf3-cb6f-45a5-8819-230e2677eae6"
   },
   "outputs": [
    {
     "ename": "ModuleNotFoundError",
     "evalue": "No module named 'imblearn'",
     "output_type": "error",
     "traceback": [
      "\u001b[1;31m---------------------------------------------------------------------------\u001b[0m",
      "\u001b[1;31mModuleNotFoundError\u001b[0m                       Traceback (most recent call last)",
      "Cell \u001b[1;32mIn[1], line 6\u001b[0m\n\u001b[0;32m      4\u001b[0m \u001b[38;5;28;01mfrom\u001b[39;00m \u001b[38;5;21;01msklearn\u001b[39;00m\u001b[38;5;21;01m.\u001b[39;00m\u001b[38;5;21;01mpreprocessing\u001b[39;00m \u001b[38;5;28;01mimport\u001b[39;00m StandardScaler, MinMaxScaler\n\u001b[0;32m      5\u001b[0m \u001b[38;5;28;01mfrom\u001b[39;00m \u001b[38;5;21;01msklearn\u001b[39;00m\u001b[38;5;21;01m.\u001b[39;00m\u001b[38;5;21;01msvm\u001b[39;00m \u001b[38;5;28;01mimport\u001b[39;00m SVC\n\u001b[1;32m----> 6\u001b[0m \u001b[38;5;28;01mfrom\u001b[39;00m \u001b[38;5;21;01mimblearn\u001b[39;00m\u001b[38;5;21;01m.\u001b[39;00m\u001b[38;5;21;01mover_sampling\u001b[39;00m \u001b[38;5;28;01mimport\u001b[39;00m RandomOverSampler\n\u001b[0;32m      7\u001b[0m \u001b[38;5;28;01mfrom\u001b[39;00m \u001b[38;5;21;01msklearn\u001b[39;00m\u001b[38;5;21;01m.\u001b[39;00m\u001b[38;5;21;01mmetrics\u001b[39;00m \u001b[38;5;28;01mimport\u001b[39;00m accuracy_score, precision_score, recall_score, f1_score, confusion_matrix\n\u001b[0;32m      8\u001b[0m \u001b[38;5;28;01mfrom\u001b[39;00m \u001b[38;5;21;01mqiskit_aer\u001b[39;00m \u001b[38;5;28;01mimport\u001b[39;00m AerSimulator\n",
      "\u001b[1;31mModuleNotFoundError\u001b[0m: No module named 'imblearn'"
     ]
    }
   ],
   "source": [
    "import numpy as np\n",
    "import pandas as pd\n",
    "from sklearn.model_selection import train_test_split\n",
    "from sklearn.preprocessing import StandardScaler, MinMaxScaler\n",
    "from sklearn.svm import SVC\n",
    "# from imblearn.over_sampling import RandomOverSampler\n",
    "from sklearn.metrics import accuracy_score, precision_score, recall_score, f1_score, confusion_matrix\n",
    "from qiskit_aer import AerSimulator\n",
    "from qiskit.utils import QuantumInstance\n",
    "from qiskit.circuit.library import ZZFeatureMap\n",
    "from qiskit_machine_learning.algorithms import QSVM\n",
    "from qiskit_machine_learning.kernels import QuantumKernel\n"
   ]
  },
  {
   "cell_type": "markdown",
   "metadata": {
    "id": "wRFRcdhD3xVh"
   },
   "source": [
    "2.Dataset and Processing Steps"
   ]
  },
  {
   "cell_type": "code",
   "execution_count": null,
   "metadata": {
    "id": "vohKK3qp3wt2"
   },
   "outputs": [],
   "source": [
    "# Load the dataset\n",
    "data = pd.read_csv('path_to_prostate_cancer_dataset.csv')\n",
    "X = data.iloc[:, :-1]  # Features\n",
    "y = data.iloc[:, -1]   # Labels\n",
    "\n",
    "# Handle class imbalance\n",
    "ros = RandomOverSampler()\n",
    "X_res, y_res = ros.fit_resample(X, y)\n",
    "\n",
    "# Standardize data for classical SVM\n",
    "scaler = StandardScaler()\n",
    "X_res = scaler.fit_transform(X_res)\n",
    "\n",
    "# Normalize data for QSVM\n",
    "minmax_scaler = MinMaxScaler()\n",
    "X_res_normalized = minmax_scaler.fit_transform(X_res)\n",
    "\n",
    "# Split data\n",
    "X_train, X_test, y_train, y_test = train_test_split(X_res_normalized, y_res, test_size=0.2, random_state=42)\n"
   ]
  },
  {
   "cell_type": "markdown",
   "metadata": {
    "id": "EIHbccbl85Wz"
   },
   "source": [
    "3. Support Vector Machine (SVM) Implementation"
   ]
  },
  {
   "cell_type": "code",
   "execution_count": null,
   "metadata": {
    "colab": {
     "base_uri": "https://localhost:8080/",
     "height": 219
    },
    "id": "4V3Ghq1W85mZ",
    "outputId": "80a3d192-9b13-40eb-e1c3-267ab4856d14"
   },
   "outputs": [
    {
     "ename": "NameError",
     "evalue": "name 'X_train' is not defined",
     "output_type": "error",
     "traceback": [
      "\u001b[0;31m---------------------------------------------------------------------------\u001b[0m",
      "\u001b[0;31mNameError\u001b[0m                                 Traceback (most recent call last)",
      "\u001b[0;32m<ipython-input-6-d6e6e5f447d0>\u001b[0m in \u001b[0;36m<cell line: 3>\u001b[0;34m()\u001b[0m\n\u001b[1;32m      1\u001b[0m \u001b[0;31m# Train the classical SVM\u001b[0m\u001b[0;34m\u001b[0m\u001b[0;34m\u001b[0m\u001b[0m\n\u001b[1;32m      2\u001b[0m \u001b[0msvm\u001b[0m \u001b[0;34m=\u001b[0m \u001b[0mSVC\u001b[0m\u001b[0;34m(\u001b[0m\u001b[0mkernel\u001b[0m\u001b[0;34m=\u001b[0m\u001b[0;34m'rbf'\u001b[0m\u001b[0;34m,\u001b[0m \u001b[0mC\u001b[0m\u001b[0;34m=\u001b[0m\u001b[0;36m1.0\u001b[0m\u001b[0;34m)\u001b[0m\u001b[0;34m\u001b[0m\u001b[0;34m\u001b[0m\u001b[0m\n\u001b[0;32m----> 3\u001b[0;31m \u001b[0msvm\u001b[0m\u001b[0;34m.\u001b[0m\u001b[0mfit\u001b[0m\u001b[0;34m(\u001b[0m\u001b[0mX_train\u001b[0m\u001b[0;34m,\u001b[0m \u001b[0my_train\u001b[0m\u001b[0;34m)\u001b[0m\u001b[0;34m\u001b[0m\u001b[0;34m\u001b[0m\u001b[0m\n\u001b[0m\u001b[1;32m      4\u001b[0m \u001b[0;34m\u001b[0m\u001b[0m\n\u001b[1;32m      5\u001b[0m \u001b[0;31m# Predict and evaluate\u001b[0m\u001b[0;34m\u001b[0m\u001b[0;34m\u001b[0m\u001b[0m\n",
      "\u001b[0;31mNameError\u001b[0m: name 'X_train' is not defined"
     ]
    }
   ],
   "source": [
    "# Train the classical SVM\n",
    "svm = SVC(kernel='rbf', C=1.0)\n",
    "svm.fit(X_train, y_train)\n",
    "\n",
    "# Predict and evaluate\n",
    "y_pred_svm = svm.predict(X_test)\n",
    "accuracy_svm = accuracy_score(y_test, y_pred_svm)\n",
    "precision_svm = precision_score(y_test, y_pred_svm)\n",
    "recall_svm = recall_score(y_test, y_pred_svm)\n",
    "f1_svm = f1_score(y_test, y_pred_svm)\n",
    "conf_matrix_svm = confusion_matrix(y_test, y_pred_svm)\n",
    "\n",
    "print(\"SVM Accuracy:\", accuracy_svm)\n",
    "print(\"SVM Precision:\", precision_svm)\n",
    "print(\"SVM Recall:\", recall_svm)\n",
    "print(\"SVM F1 Score:\", f1_svm)\n",
    "print(\"SVM Confusion Matrix:\\n\", conf_matrix_svm)\n"
   ]
  },
  {
   "cell_type": "markdown",
   "metadata": {
    "id": "52cmmPYy88cE"
   },
   "source": [
    "4. Quantum Support Vector Machine (QSVM) Implementation"
   ]
  },
  {
   "cell_type": "code",
   "execution_count": null,
   "metadata": {
    "colab": {
     "base_uri": "https://localhost:8080/",
     "height": 237
    },
    "id": "VXUmLi5c87RP",
    "outputId": "23be98e0-218c-4c61-b90a-e5dfe21586b7"
   },
   "outputs": [
    {
     "ename": "NameError",
     "evalue": "name 'ZZFeatureMap' is not defined",
     "output_type": "error",
     "traceback": [
      "\u001b[0;31m---------------------------------------------------------------------------\u001b[0m",
      "\u001b[0;31mNameError\u001b[0m                                 Traceback (most recent call last)",
      "\u001b[0;32m<ipython-input-7-a24a59a39d03>\u001b[0m in \u001b[0;36m<cell line: 2>\u001b[0;34m()\u001b[0m\n\u001b[1;32m      1\u001b[0m \u001b[0;31m# Setup for QSVM\u001b[0m\u001b[0;34m\u001b[0m\u001b[0;34m\u001b[0m\u001b[0m\n\u001b[0;32m----> 2\u001b[0;31m \u001b[0mfeature_map\u001b[0m \u001b[0;34m=\u001b[0m \u001b[0mZZFeatureMap\u001b[0m\u001b[0;34m(\u001b[0m\u001b[0mfeature_dimension\u001b[0m\u001b[0;34m=\u001b[0m\u001b[0mX_train\u001b[0m\u001b[0;34m.\u001b[0m\u001b[0mshape\u001b[0m\u001b[0;34m[\u001b[0m\u001b[0;36m1\u001b[0m\u001b[0;34m]\u001b[0m\u001b[0;34m,\u001b[0m \u001b[0mreps\u001b[0m\u001b[0;34m=\u001b[0m\u001b[0;36m2\u001b[0m\u001b[0;34m,\u001b[0m \u001b[0mentanglement\u001b[0m\u001b[0;34m=\u001b[0m\u001b[0;34m'full'\u001b[0m\u001b[0;34m)\u001b[0m\u001b[0;34m\u001b[0m\u001b[0;34m\u001b[0m\u001b[0m\n\u001b[0m\u001b[1;32m      3\u001b[0m \u001b[0mquantum_kernel\u001b[0m \u001b[0;34m=\u001b[0m \u001b[0mQuantumKernel\u001b[0m\u001b[0;34m(\u001b[0m\u001b[0mfeature_map\u001b[0m\u001b[0;34m=\u001b[0m\u001b[0mfeature_map\u001b[0m\u001b[0;34m,\u001b[0m \u001b[0mquantum_instance\u001b[0m\u001b[0;34m=\u001b[0m\u001b[0mQuantumInstance\u001b[0m\u001b[0;34m(\u001b[0m\u001b[0mAer\u001b[0m\u001b[0;34m.\u001b[0m\u001b[0mget_backend\u001b[0m\u001b[0;34m(\u001b[0m\u001b[0;34m'qasm_simulator'\u001b[0m\u001b[0;34m)\u001b[0m\u001b[0;34m)\u001b[0m\u001b[0;34m)\u001b[0m\u001b[0;34m\u001b[0m\u001b[0;34m\u001b[0m\u001b[0m\n\u001b[1;32m      4\u001b[0m \u001b[0;34m\u001b[0m\u001b[0m\n\u001b[1;32m      5\u001b[0m \u001b[0;31m# Train QSVM\u001b[0m\u001b[0;34m\u001b[0m\u001b[0;34m\u001b[0m\u001b[0m\n",
      "\u001b[0;31mNameError\u001b[0m: name 'ZZFeatureMap' is not defined"
     ]
    }
   ],
   "source": [
    "# Setup for QSVM\n",
    "feature_map = ZZFeatureMap(feature_dimension=X_train.shape[1], reps=2, entanglement='full')\n",
    "quantum_kernel = QuantumKernel(feature_map=feature_map, quantum_instance=QuantumInstance(Aer.get_backend('qasm_simulator')))\n",
    "\n",
    "# Train QSVM\n",
    "qsvm = QSVM(quantum_kernel=quantum_kernel, training_dataset={'prostate': (X_train, y_train)}, test_dataset={'prostate': (X_test, y_test)})\n",
    "result = qsvm.run(quantum_instance=QuantumInstance(Aer.get_backend('statevector_simulator')))\n",
    "\n",
    "# Display QSVM results\n",
    "print(\"QSVM Training Accuracy:\", result['train_accuracy'])\n",
    "print(\"QSVM Test Accuracy:\", result['test_accuracy'])\n"
   ]
  },
  {
   "cell_type": "markdown",
   "metadata": {
    "id": "tvIZBZam9A2g"
   },
   "source": [
    "5. Performance Metrics and Kernel Matrices Comparison"
   ]
  },
  {
   "cell_type": "code",
   "execution_count": null,
   "metadata": {
    "id": "Z9AgmPw29ADV"
   },
   "outputs": [],
   "source": [
    "# Calculate metrics for both SVM and QSVM\n",
    "metrics = {\n",
    "    'Model': ['SVM', 'QSVM'],\n",
    "    'Accuracy': [accuracy_svm, result['test_accuracy']],\n",
    "    'Precision': [precision_svm, result['test_precision']],\n",
    "    'Recall': [recall_svm, result['test_recall']],\n",
    "    'F1 Score': [f1_svm, result['test_f1']]\n",
    "}\n",
    "metrics_df = pd.DataFrame(metrics)\n",
    "print(metrics_df)\n",
    "\n",
    "# Visualize kernel matrices\n",
    "import matplotlib.pyplot as plt\n",
    "import seaborn as sns\n",
    "\n",
    "# Classical SVM Kernel Matrix\n",
    "svm_kernel_matrix = svm._get_kernel(X_train)  # Getting the SVM kernel matrix\n",
    "plt.figure(figsize=(10, 8))\n",
    "sns.heatmap(svm_kernel_matrix, cmap='viridis')\n",
    "plt.title(\"SVM Kernel Matrix\")\n",
    "plt.show()\n",
    "\n",
    "# QSVM Kernel Matrix\n",
    "qsvm_kernel_matrix = quantum_kernel.evaluate(X_train)  # QSVM Kernel matrix\n",
    "plt.figure(figsize=(10, 8))\n",
    "sns.heatmap(qsvm_kernel_matrix, cmap='viridis')\n",
    "plt.title(\"QSVM Kernel Matrix\")\n",
    "plt.show()"
   ]
  }
 ],
 "metadata": {
  "colab": {
   "provenance": []
  },
  "kernelspec": {
   "display_name": "Python 3 (ipykernel)",
   "language": "python",
   "name": "python3"
  },
  "language_info": {
   "codemirror_mode": {
    "name": "ipython",
    "version": 3
   },
   "file_extension": ".py",
   "mimetype": "text/x-python",
   "name": "python",
   "nbconvert_exporter": "python",
   "pygments_lexer": "ipython3",
   "version": "3.13.0"
  }
 },
 "nbformat": 4,
 "nbformat_minor": 4
}
